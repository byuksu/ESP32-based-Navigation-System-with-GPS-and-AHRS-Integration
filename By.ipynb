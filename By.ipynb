{
 "cells": [
  {
   "cell_type": "code",
   "execution_count": null,
   "id": "4efbe2f8",
   "metadata": {
    "scrolled": true
   },
   "outputs": [
    {
     "data": {
      "application/vnd.jupyter.widget-view+json": {
       "model_id": "7c70155c4fce4604aff200981f77cb7d",
       "version_major": 2,
       "version_minor": 0
      },
      "text/plain": [
       "Figure(layout=FigureLayout(height='420px'))"
      ]
     },
     "metadata": {},
     "output_type": "display_data"
    }
   ],
   "source": [
    "import ipywidgets as widgets\n",
    "import geopy\n",
    "import gmaps\n",
    "import time\n",
    "import socket\n",
    "import math\n",
    "import threading\n",
    "from IPython.display import display, clear_output, update_display\n",
    "\n",
    "################################  Some Variables  ###################################\n",
    "\n",
    "gmaps.configure(api_key='Enter API key')  #         Api-Key\n",
    "\n",
    "server_address = ('192.168.1.25', 48569)  #         Server-Address and Port-Number\n",
    "\n",
    "initial_location = (39.99515813942635, 32.750430237878376)  #        Initial-Location\n",
    "\n",
    "length_tolerance = 3\n",
    "\n",
    "angle_tolerance = 3\n",
    "\n",
    "r = 6371                      #                         Radius of earth in kilometers\n",
    "\n",
    "######################################################################################\n",
    "\n",
    "fig = gmaps.figure(center=initial_location, zoom_level=20)\n",
    "\n",
    "marker_locations = []  #                 Initialize the list to store marker locations\n",
    "\n",
    "def handle_map_click(feature):\n",
    "    global target_location\n",
    "    lat, lng = feature.location\n",
    "    target_location = (lat, lng)\n",
    "    global marker_locations\n",
    "    marker_locations.append(target_location)\n",
    "    \n",
    "drawing_layer = gmaps.drawing_layer()\n",
    "\n",
    "fig.add_layer(drawing_layer)\n",
    "\n",
    "drawing_layer.on_new_feature(handle_map_click)\n",
    "\n",
    "display(fig)\n"
   ]
  },
  {
   "cell_type": "code",
   "execution_count": 11,
   "id": "71ee6c9c",
   "metadata": {},
   "outputs": [
    {
     "name": "stdout",
     "output_type": "stream",
     "text": [
      "Marker 1 Location: (39.99557909199935, 32.752241866126425)\n",
      "Marker 2 Location: (39.99562840776558, 32.752168105378516)\n",
      "Marker 3 Location: (39.99567772349621, 32.75206215812243)\n",
      "Marker 4 Location: (39.9957424503386, 32.75215201212443)\n",
      "Marker 5 Location: (39.995834917149885, 32.7522727115301)\n"
     ]
    }
   ],
   "source": [
    "for i, location in enumerate(marker_locations, 1):\n",
    "    print(f\"Marker {i} Location:\", location)"
   ]
  },
  {
   "cell_type": "code",
   "execution_count": 12,
   "id": "6fc6010a",
   "metadata": {},
   "outputs": [],
   "source": [
    "fig = gmaps.figure(center=marker_locations[0], zoom_level=20)\n",
    "\n",
    "line_layer = gmaps.drawing_layer()\n",
    "\n",
    "lines = [] \n",
    "dots = []   \n",
    "hover_text = []\n",
    "\n",
    "# Adding dots for each marker location\n",
    "for i, location in enumerate(marker_locations):\n",
    "    dot = gmaps.symbol_layer([location], fill_color='green', stroke_color='black', scale=[5])\n",
    "    dots.append(dot)\n",
    "    \n",
    "    # Adding location info to hover_text\n",
    "    hover_text.append(f\"Location {i+1}: {location}\")\n",
    "\n",
    "# Adding lines between marker locations\n",
    "for i in range(len(marker_locations)-1):\n",
    "    line = gmaps.Line(\n",
    "        start=marker_locations[i],\n",
    "        end=marker_locations[i+1],\n",
    "        stroke_weight=3.0,\n",
    "        stroke_color=\"blue\"  \n",
    "    )\n",
    "    lines.append(line)\n",
    "\n",
    "# Adding the drawing layer, dots, and lines to the figure\n",
    "fig.add_layer(drawing_layer)\n",
    "#fig.add_layer(gmaps.drawing_layer(features=lines))  # Note: This line replaces the previous line_layer\n",
    "fig.add_layer(gmaps.symbol_layer(marker_locations, fill_color='blue', stroke_color='yellow', scale=3, hover_text=hover_text))\n"
   ]
  },
  {
   "cell_type": "code",
   "execution_count": 13,
   "id": "5db91f75",
   "metadata": {
    "scrolled": true
   },
   "outputs": [
    {
     "name": "stdout",
     "output_type": "stream",
     "text": [
      "Connected to the server.\n",
      "#############################################\n"
     ]
    },
    {
     "data": {
      "text/plain": [
       "'You reached the target!'"
      ]
     },
     "metadata": {},
     "output_type": "display_data"
    },
    {
     "name": "stdout",
     "output_type": "stream",
     "text": [
      "#############################################\n"
     ]
    },
    {
     "data": {
      "text/plain": [
       "'Latitude: 39.9958349171'"
      ]
     },
     "metadata": {},
     "output_type": "display_data"
    },
    {
     "data": {
      "text/plain": [
       "'Longitude: 32.7522718203'"
      ]
     },
     "metadata": {},
     "output_type": "display_data"
    },
    {
     "data": {
      "text/plain": [
       "'Angle coming from AHRS: 57.35455571'"
      ]
     },
     "metadata": {},
     "output_type": "display_data"
    },
    {
     "name": "stdout",
     "output_type": "stream",
     "text": [
      "#############################################\n"
     ]
    },
    {
     "data": {
      "text/plain": [
       "'Minimum distance to the final location: 14.616637833580647 m'"
      ]
     },
     "metadata": {},
     "output_type": "display_data"
    },
    {
     "data": {
      "application/vnd.jupyter.widget-view+json": {
       "model_id": "427c1afc7716451ab5c2eaa38d9225e1",
       "version_major": 2,
       "version_minor": 0
      },
      "text/plain": [
       "Figure(layout=FigureLayout(height='420px'))"
      ]
     },
     "metadata": {},
     "output_type": "display_data"
    }
   ],
   "source": [
    "# Creating a TCP client socket\n",
    "client_socket = socket.socket(socket.AF_INET, socket.SOCK_STREAM)\n",
    "\n",
    "# Connecting to the server\n",
    "\n",
    "try:\n",
    "    client_socket.connect(server_address)\n",
    "    print(\"Connected to the server.\")\n",
    "except Exception as e:\n",
    "    print(f\"Unable to connect to the server: {e}\")\n",
    "    exit()\n",
    "\n",
    "from math import radians, sin, cos, sqrt, atan2, asin, degrees\n",
    "\n",
    "# the distance between two locations with following formula: acos(sin(lat1)*sin(lat2)+cos(lat1)*cos(lat2)*cos(lon2-lon1))*6371 \n",
    "\n",
    "def dist(loc1, loc2):\n",
    "    \n",
    "    # Converting latitude and longitude from degrees to radians\n",
    "    \n",
    "    lat1, lon1 = radians(loc1[0]), radians(loc1[1])\n",
    "    lat2, lon2 = radians(loc2[0]), radians(loc2[1])\n",
    "    \n",
    "    # Haversine formula \n",
    "    dlon = lon2 - lon1 \n",
    "    dlat = lat2 - lat1\n",
    "    a = sin(dlat / 2)**2 + cos(lat1) * cos(lat2) * sin(dlon / 2)**2\n",
    " \n",
    "    c = 2 * asin(sqrt(a)) \n",
    "      \n",
    "    return(c * r*1000)\n",
    "\n",
    "marker_init = gmaps.symbol_layer([(39,32)])\n",
    "\n",
    "def calculate_angle(point1, point2):\n",
    "    # Calculation of the bearing angle between the line and the north\n",
    "    lat1, lon1 = radians(point1[0]), radians(point1[1])\n",
    "    lat2, lon2 = radians(point2[0]), radians(point2[1])\n",
    "\n",
    "    delta_longitude = lon2 - lon1\n",
    "\n",
    "    x = sin(delta_longitude) * cos(lat2)\n",
    "    y = cos(lat1) * sin(lat2) - (sin(lat1) * cos(lat2) * cos(delta_longitude))\n",
    "\n",
    "    bearing_angle_rad = atan2(x, y)\n",
    "    bearing_angle_deg = (degrees(bearing_angle_rad) )\n",
    "\n",
    "    return bearing_angle_deg\n",
    "\n",
    "# Create display objects for each piece of text\n",
    "print(\"#############################################\")\n",
    "output_display = display(\"\", display_id=True)\n",
    "print(\"#############################################\")\n",
    "latitude_display = display(\"\", display_id=True)\n",
    "longitude_display = display(\"\", display_id=True)\n",
    "angle_display = display(\"\", display_id=True)\n",
    "print(\"#############################################\")\n",
    "distance_display = display(\"\", display_id=True)\n",
    "def receive_data():\n",
    "    while True:\n",
    "        try:\n",
    "            # Received data from the server\n",
    "            data = client_socket.recv(1024).decode('utf-8')\n",
    "\n",
    "            if not data:\n",
    "                break  # Break the loop if no data is received\n",
    "\n",
    "            # Splitting the received data into latitude and longitude\n",
    "            try:\n",
    "                latitude, longitude, angle = map(float, data.split(','))\n",
    "            except ValueError:\n",
    "                #update_display(f\"Invalid data format received from the server.\", display_id=output_display.display_id)\n",
    "                \n",
    "                continue\n",
    "\n",
    "            # Update latitude, longitude, and angle displays\n",
    "            update_display(f\"Latitude: {latitude}\", display_id=latitude_display.display_id)\n",
    "            update_display(f\"Longitude: {longitude}\", display_id=longitude_display.display_id)\n",
    "            \n",
    "\n",
    "            # Process of the received data\n",
    "            # Update the location for the initial_location which comes from the server \n",
    "            global initial_location\n",
    "            global marker_locations\n",
    "            initial_location = (latitude, longitude)\n",
    "            global distance_first \n",
    "            distance_first = float('inf')\n",
    "            global distance_final \n",
    "            distance_final = float('inf')\n",
    "           \n",
    "            #initial_location = (latitude, longitude)  \n",
    "            \n",
    "            # Calculate distances and print the minimum distance to the target and first location\n",
    "            \n",
    "            if len(marker_locations) > 0:\n",
    "                distance_first = dist(initial_location, marker_locations[0])                \n",
    "                for l in range(len(marker_locations)-1):\n",
    "                    distances=[dist(marker_locations[l],marker_locations[l+1])]\n",
    "                distance_final_sum=sum(distances)+distance_first\n",
    "                update_display(f\"Distance to the first location: {distance_first} m\", display_id=distance_display.display_id)\n",
    "                update_display(f\"Minimum distance to the final location: {distance_final_sum} m\", display_id=distance_display.display_id)\n",
    "      \n",
    "            marker_init.markers = [gmaps.Symbol(location=initial_location)]\n",
    "            \n",
    "            if(distance_final<length_tolerance) or len(marker_locations)==0:\n",
    "                    update_display(f\"You reached the target!\", display_id=output_display.display_id)\n",
    "                    break\n",
    "            \n",
    "            if distance_first<3 and len(marker_locations)!=0:\n",
    "                marker_locations.pop(0)\n",
    "              \n",
    "            if len(marker_locations)>=1:\n",
    "                line = gmaps.Line(\n",
    "                    start=initial_location,\n",
    "                    end=marker_locations[0],\n",
    "                    stroke_weight=6.0,\n",
    "                    stroke_color=\"red\"  \n",
    "                )\n",
    "                line_layer.features = [line]\n",
    "                \n",
    "                #angle to the north which comes from map - line from our loc to the first loc\n",
    "                \n",
    "                turning_angle=calculate_angle(initial_location,marker_locations[0])\n",
    "                update_display(f\"Angle coming from AHRS: {angle}\", display_id=angle_display.display_id)\n",
    "                \n",
    "                \n",
    "                #angle we need to turn to reach the target\n",
    "                \n",
    "                turning_angle=turning_angle-angle\n",
    "                \n",
    "                if(angle_tolerance>abs(turning_angle)):\n",
    "                    update_display(f\"Go straight!\", display_id=output_display.display_id)\n",
    "                elif (turning_angle >= angle_tolerance) and (turning_angle <= (180-angle_tolerance)):\n",
    "                    update_display(f\"Return LEFT at angle: {turning_angle} \", display_id=output_display.display_id)\n",
    "                elif (turning_angle > 180):\n",
    "                    update_display(f\"Return RIGHT at angle: {360-turning_angle} \", display_id=output_display.display_id)\n",
    "                elif (turning_angle >=(-180)) and (turning_angle < -abs(angle_tolerance)):\n",
    "                    update_display(f\"Return RIGHT at angle: {abs(turning_angle)} \", display_id=output_display.display_id)\n",
    "                elif turning_angle < -180:\n",
    "                    update_display(f\"Return LEFT at angle: {360 + turning_angle} \", display_id=output_display.display_id)\n",
    "                else:\n",
    "                    continue\n",
    "        \n",
    "            \n",
    "        except Exception as e:\n",
    "            print(f\"Error receiving data from server: {e}\")\n",
    "            break\n",
    "\n",
    "        time.sleep(1)\n",
    "\n",
    "\n",
    "# Start the receive_data function in a separate thread\n",
    "\n",
    "receive_thread = threading.Thread(target=receive_data)\n",
    "receive_thread.start()\n",
    "# Add the drawing layer\n",
    "\n",
    "lines.append(line)\n",
    "\n",
    "fig.add_layer(line_layer)\n",
    "fig.add_layer(marker_init)\n",
    "fig.add_layer(gmaps.drawing_layer(features=lines)) \n",
    "fig\n",
    "\n",
    "\n"
   ]
  },
  {
   "cell_type": "code",
   "execution_count": null,
   "id": "9a131036",
   "metadata": {},
   "outputs": [],
   "source": []
  }
 ],
 "metadata": {
  "kernelspec": {
   "display_name": "Python 3 (ipykernel)",
   "language": "python",
   "name": "python3"
  },
  "language_info": {
   "codemirror_mode": {
    "name": "ipython",
    "version": 3
   },
   "file_extension": ".py",
   "mimetype": "text/x-python",
   "name": "python",
   "nbconvert_exporter": "python",
   "pygments_lexer": "ipython3",
   "version": "3.9.18"
  }
 },
 "nbformat": 4,
 "nbformat_minor": 5
}
